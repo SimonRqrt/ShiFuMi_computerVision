{
 "cells": [
  {
   "cell_type": "code",
   "execution_count": 6,
   "metadata": {},
   "outputs": [
    {
     "name": "stderr",
     "output_type": "stream",
     "text": [
      "[ WARN:2@1329.263] global cap_v4l.cpp:982 open VIDEOIO(V4L2:/dev/video0): can't open camera by index\n",
      "[ERROR:2@1329.263] global obsensor_uvc_stream_channel.cpp:156 getStreamChannelGroup Camera index out of range\n"
     ]
    },
    {
     "data": {
      "text/html": [
       "<pre style=\"white-space:pre;overflow-x:auto;line-height:normal;font-family:Menlo,'DejaVu Sans Mono',consolas,'Courier New',monospace\"><span style=\"color: #7fbfbf; text-decoration-color: #7fbfbf\">[06/27/24 10:02:14] </span><span style=\"color: #800000; text-decoration-color: #800000; font-weight: bold\">ERROR   </span> Encountered inference error: Cannot connect to video source  <a href=\"file:///usr/local/lib/python3.10/site-packages/inference/core/interfaces/stream/inference_pipeline.py\" target=\"_blank\"><span style=\"color: #7f7f7f; text-decoration-color: #7f7f7f\">inference_pipeline.py</span></a><span style=\"color: #7f7f7f; text-decoration-color: #7f7f7f\">:</span><a href=\"file:///usr/local/lib/python3.10/site-packages/inference/core/interfaces/stream/inference_pipeline.py#824\" target=\"_blank\"><span style=\"color: #7f7f7f; text-decoration-color: #7f7f7f\">824</span></a>\n",
       "<span style=\"color: #7fbfbf; text-decoration-color: #7fbfbf\">                    </span>         under reference: <span style=\"color: #008080; text-decoration-color: #008080; font-weight: bold\">0</span>                                           <span style=\"color: #7f7f7f; text-decoration-color: #7f7f7f\">                         </span>\n",
       "<span style=\"color: #7fbfbf; text-decoration-color: #7fbfbf\">                    </span>         Traceback <span style=\"font-weight: bold\">(</span>most recent call last<span style=\"font-weight: bold\">)</span>:                           <span style=\"color: #7f7f7f; text-decoration-color: #7f7f7f\">                         </span>\n",
       "<span style=\"color: #7fbfbf; text-decoration-color: #7fbfbf\">                    </span>           File                                                       <span style=\"color: #7f7f7f; text-decoration-color: #7f7f7f\">                         </span>\n",
       "<span style=\"color: #7fbfbf; text-decoration-color: #7fbfbf\">                    </span>         <span style=\"color: #008000; text-decoration-color: #008000\">\"/usr/local/lib/python3.10/site-packages/inference/core/inte</span> <span style=\"color: #7f7f7f; text-decoration-color: #7f7f7f\">                         </span>\n",
       "<span style=\"color: #7fbfbf; text-decoration-color: #7fbfbf\">                    </span>         <span style=\"color: #008000; text-decoration-color: #008000\">rfaces/stream/inference_pipeline.py\"</span>, line <span style=\"color: #008080; text-decoration-color: #008080; font-weight: bold\">792</span>, in           <span style=\"color: #7f7f7f; text-decoration-color: #7f7f7f\">                         </span>\n",
       "<span style=\"color: #7fbfbf; text-decoration-color: #7fbfbf\">                    </span>         _execute_inference                                           <span style=\"color: #7f7f7f; text-decoration-color: #7f7f7f\">                         </span>\n",
       "<span style=\"color: #7fbfbf; text-decoration-color: #7fbfbf\">                    </span>             for video_frames in <span style=\"color: #800080; text-decoration-color: #800080; font-weight: bold\">self._generate_frames</span><span style=\"font-weight: bold\">()</span>:             <span style=\"color: #7f7f7f; text-decoration-color: #7f7f7f\">                         </span>\n",
       "<span style=\"color: #7fbfbf; text-decoration-color: #7fbfbf\">                    </span>           File                                                       <span style=\"color: #7f7f7f; text-decoration-color: #7f7f7f\">                         </span>\n",
       "<span style=\"color: #7fbfbf; text-decoration-color: #7fbfbf\">                    </span>         <span style=\"color: #008000; text-decoration-color: #008000\">\"/usr/local/lib/python3.10/site-packages/inference/core/inte</span> <span style=\"color: #7f7f7f; text-decoration-color: #7f7f7f\">                         </span>\n",
       "<span style=\"color: #7fbfbf; text-decoration-color: #7fbfbf\">                    </span>         <span style=\"color: #008000; text-decoration-color: #008000\">rfaces/stream/inference_pipeline.py\"</span>, line <span style=\"color: #008080; text-decoration-color: #008080; font-weight: bold\">913</span>, in           <span style=\"color: #7f7f7f; text-decoration-color: #7f7f7f\">                         </span>\n",
       "<span style=\"color: #7fbfbf; text-decoration-color: #7fbfbf\">                    </span>         _generate_frames                                             <span style=\"color: #7f7f7f; text-decoration-color: #7f7f7f\">                         </span>\n",
       "<span style=\"color: #7fbfbf; text-decoration-color: #7fbfbf\">                    </span>             <span style=\"color: #800080; text-decoration-color: #800080; font-weight: bold\">video_source.start</span><span style=\"font-weight: bold\">()</span>                                     <span style=\"color: #7f7f7f; text-decoration-color: #7f7f7f\">                         </span>\n",
       "<span style=\"color: #7fbfbf; text-decoration-color: #7fbfbf\">                    </span>           File                                                       <span style=\"color: #7f7f7f; text-decoration-color: #7f7f7f\">                         </span>\n",
       "<span style=\"color: #7fbfbf; text-decoration-color: #7fbfbf\">                    </span>         <span style=\"color: #008000; text-decoration-color: #008000\">\"/usr/local/lib/python3.10/site-packages/inference/core/inte</span> <span style=\"color: #7f7f7f; text-decoration-color: #7f7f7f\">                         </span>\n",
       "<span style=\"color: #7fbfbf; text-decoration-color: #7fbfbf\">                    </span>         <span style=\"color: #008000; text-decoration-color: #008000\">rfaces/camera/video_source.py\"</span>, line <span style=\"color: #008080; text-decoration-color: #008080; font-weight: bold\">128</span>, in locked_executor <span style=\"color: #7f7f7f; text-decoration-color: #7f7f7f\">                         </span>\n",
       "<span style=\"color: #7fbfbf; text-decoration-color: #7fbfbf\">                    </span>             return <span style=\"color: #800080; text-decoration-color: #800080; font-weight: bold\">method</span><span style=\"font-weight: bold\">(</span>video_source, *args, **kwargs<span style=\"font-weight: bold\">)</span>             <span style=\"color: #7f7f7f; text-decoration-color: #7f7f7f\">                         </span>\n",
       "<span style=\"color: #7fbfbf; text-decoration-color: #7fbfbf\">                    </span>           File                                                       <span style=\"color: #7f7f7f; text-decoration-color: #7f7f7f\">                         </span>\n",
       "<span style=\"color: #7fbfbf; text-decoration-color: #7fbfbf\">                    </span>         <span style=\"color: #008000; text-decoration-color: #008000\">\"/usr/local/lib/python3.10/site-packages/inference/core/inte</span> <span style=\"color: #7f7f7f; text-decoration-color: #7f7f7f\">                         </span>\n",
       "<span style=\"color: #7fbfbf; text-decoration-color: #7fbfbf\">                    </span>         <span style=\"color: #008000; text-decoration-color: #008000\">rfaces/camera/video_source.py\"</span>, line <span style=\"color: #008080; text-decoration-color: #008080; font-weight: bold\">396</span>, in start           <span style=\"color: #7f7f7f; text-decoration-color: #7f7f7f\">                         </span>\n",
       "<span style=\"color: #7fbfbf; text-decoration-color: #7fbfbf\">                    </span>             <span style=\"color: #800080; text-decoration-color: #800080; font-weight: bold\">self._start</span><span style=\"font-weight: bold\">()</span>                                            <span style=\"color: #7f7f7f; text-decoration-color: #7f7f7f\">                         </span>\n",
       "<span style=\"color: #7fbfbf; text-decoration-color: #7fbfbf\">                    </span>           File                                                       <span style=\"color: #7f7f7f; text-decoration-color: #7f7f7f\">                         </span>\n",
       "<span style=\"color: #7fbfbf; text-decoration-color: #7fbfbf\">                    </span>         <span style=\"color: #008000; text-decoration-color: #008000\">\"/usr/local/lib/python3.10/site-packages/inference/core/inte</span> <span style=\"color: #7f7f7f; text-decoration-color: #7f7f7f\">                         </span>\n",
       "<span style=\"color: #7fbfbf; text-decoration-color: #7fbfbf\">                    </span>         <span style=\"color: #008000; text-decoration-color: #008000\">rfaces/camera/video_source.py\"</span>, line <span style=\"color: #008080; text-decoration-color: #008080; font-weight: bold\">575</span>, in _start          <span style=\"color: #7f7f7f; text-decoration-color: #7f7f7f\">                         </span>\n",
       "<span style=\"color: #7fbfbf; text-decoration-color: #7fbfbf\">                    </span>             raise <span style=\"color: #800080; text-decoration-color: #800080; font-weight: bold\">SourceConnectionError</span><span style=\"font-weight: bold\">(</span>                             <span style=\"color: #7f7f7f; text-decoration-color: #7f7f7f\">                         </span>\n",
       "<span style=\"color: #7fbfbf; text-decoration-color: #7fbfbf\">                    </span>         inference.core.interfaces.camera.exceptions.SourceConnection <span style=\"color: #7f7f7f; text-decoration-color: #7f7f7f\">                         </span>\n",
       "<span style=\"color: #7fbfbf; text-decoration-color: #7fbfbf\">                    </span>         Error: Cannot connect to video source under reference: <span style=\"color: #008080; text-decoration-color: #008080; font-weight: bold\">0</span>     <span style=\"color: #7f7f7f; text-decoration-color: #7f7f7f\">                         </span>\n",
       "</pre>\n"
      ],
      "text/plain": [
       "\u001b[2;36m[06/27/24 10:02:14]\u001b[0m\u001b[2;36m \u001b[0m\u001b[1;31mERROR   \u001b[0m Encountered inference error: Cannot connect to video source  \u001b]8;id=279809;file:///usr/local/lib/python3.10/site-packages/inference/core/interfaces/stream/inference_pipeline.py\u001b\\\u001b[2minference_pipeline.py\u001b[0m\u001b]8;;\u001b\\\u001b[2m:\u001b[0m\u001b]8;id=96503;file:///usr/local/lib/python3.10/site-packages/inference/core/interfaces/stream/inference_pipeline.py#824\u001b\\\u001b[2m824\u001b[0m\u001b]8;;\u001b\\\n",
       "\u001b[2;36m                    \u001b[0m         under reference: \u001b[1;36m0\u001b[0m                                           \u001b[2m                         \u001b[0m\n",
       "\u001b[2;36m                    \u001b[0m         Traceback \u001b[1m(\u001b[0mmost recent call last\u001b[1m)\u001b[0m:                           \u001b[2m                         \u001b[0m\n",
       "\u001b[2;36m                    \u001b[0m           File                                                       \u001b[2m                         \u001b[0m\n",
       "\u001b[2;36m                    \u001b[0m         \u001b[32m\"/usr/local/lib/python3.10/site-packages/inference/core/inte\u001b[0m \u001b[2m                         \u001b[0m\n",
       "\u001b[2;36m                    \u001b[0m         \u001b[32mrfaces/stream/inference_pipeline.py\"\u001b[0m, line \u001b[1;36m792\u001b[0m, in           \u001b[2m                         \u001b[0m\n",
       "\u001b[2;36m                    \u001b[0m         _execute_inference                                           \u001b[2m                         \u001b[0m\n",
       "\u001b[2;36m                    \u001b[0m             for video_frames in \u001b[1;35mself._generate_frames\u001b[0m\u001b[1m(\u001b[0m\u001b[1m)\u001b[0m:             \u001b[2m                         \u001b[0m\n",
       "\u001b[2;36m                    \u001b[0m           File                                                       \u001b[2m                         \u001b[0m\n",
       "\u001b[2;36m                    \u001b[0m         \u001b[32m\"/usr/local/lib/python3.10/site-packages/inference/core/inte\u001b[0m \u001b[2m                         \u001b[0m\n",
       "\u001b[2;36m                    \u001b[0m         \u001b[32mrfaces/stream/inference_pipeline.py\"\u001b[0m, line \u001b[1;36m913\u001b[0m, in           \u001b[2m                         \u001b[0m\n",
       "\u001b[2;36m                    \u001b[0m         _generate_frames                                             \u001b[2m                         \u001b[0m\n",
       "\u001b[2;36m                    \u001b[0m             \u001b[1;35mvideo_source.start\u001b[0m\u001b[1m(\u001b[0m\u001b[1m)\u001b[0m                                     \u001b[2m                         \u001b[0m\n",
       "\u001b[2;36m                    \u001b[0m           File                                                       \u001b[2m                         \u001b[0m\n",
       "\u001b[2;36m                    \u001b[0m         \u001b[32m\"/usr/local/lib/python3.10/site-packages/inference/core/inte\u001b[0m \u001b[2m                         \u001b[0m\n",
       "\u001b[2;36m                    \u001b[0m         \u001b[32mrfaces/camera/video_source.py\"\u001b[0m, line \u001b[1;36m128\u001b[0m, in locked_executor \u001b[2m                         \u001b[0m\n",
       "\u001b[2;36m                    \u001b[0m             return \u001b[1;35mmethod\u001b[0m\u001b[1m(\u001b[0mvideo_source, *args, **kwargs\u001b[1m)\u001b[0m             \u001b[2m                         \u001b[0m\n",
       "\u001b[2;36m                    \u001b[0m           File                                                       \u001b[2m                         \u001b[0m\n",
       "\u001b[2;36m                    \u001b[0m         \u001b[32m\"/usr/local/lib/python3.10/site-packages/inference/core/inte\u001b[0m \u001b[2m                         \u001b[0m\n",
       "\u001b[2;36m                    \u001b[0m         \u001b[32mrfaces/camera/video_source.py\"\u001b[0m, line \u001b[1;36m396\u001b[0m, in start           \u001b[2m                         \u001b[0m\n",
       "\u001b[2;36m                    \u001b[0m             \u001b[1;35mself._start\u001b[0m\u001b[1m(\u001b[0m\u001b[1m)\u001b[0m                                            \u001b[2m                         \u001b[0m\n",
       "\u001b[2;36m                    \u001b[0m           File                                                       \u001b[2m                         \u001b[0m\n",
       "\u001b[2;36m                    \u001b[0m         \u001b[32m\"/usr/local/lib/python3.10/site-packages/inference/core/inte\u001b[0m \u001b[2m                         \u001b[0m\n",
       "\u001b[2;36m                    \u001b[0m         \u001b[32mrfaces/camera/video_source.py\"\u001b[0m, line \u001b[1;36m575\u001b[0m, in _start          \u001b[2m                         \u001b[0m\n",
       "\u001b[2;36m                    \u001b[0m             raise \u001b[1;35mSourceConnectionError\u001b[0m\u001b[1m(\u001b[0m                             \u001b[2m                         \u001b[0m\n",
       "\u001b[2;36m                    \u001b[0m         inference.core.interfaces.camera.exceptions.SourceConnection \u001b[2m                         \u001b[0m\n",
       "\u001b[2;36m                    \u001b[0m         Error: Cannot connect to video source under reference: \u001b[1;36m0\u001b[0m     \u001b[2m                         \u001b[0m\n"
      ]
     },
     "metadata": {},
     "output_type": "display_data"
    }
   ],
   "source": [
    "# Import the InferencePipeline object\n",
    "from typing import Any, List\n",
    "from inference import InferencePipeline\n",
    "# Import the built in render_boxes sink for visualizing results\n",
    "from inference.core.interfaces.stream.sinks import render_boxes\n",
    "from inference.core.interfaces.camera.entities import VideoFrame\n",
    "import torch\n",
    "\n",
    "class MyModel:\n",
    "\n",
    "  def __init__(self, weights_path: str):\n",
    "    self._model = torch.load(weights_path)\n",
    "\n",
    "  # after v0.9.18  \n",
    "  def infer(self, video_frames: List[VideoFrame]) -> List[Any]: \n",
    "    # result must be returned as list of elements representing model prediction for single frame\n",
    "    # with order unchanged.\n",
    "    return self._model([v.image for v in video_frames])\n",
    "  \n",
    "my_model = MyModel(\"../shifumi_trained.pt\")\n",
    "pipeline = InferencePipeline.init_with_custom_logic(\n",
    "    on_video_frame=my_model.infer,\n",
    "    video_reference=0, # Path to video, device id (int, usually 0 for built in webcams), or RTSP stream url\n",
    "    on_prediction=render_boxes, # Function to run after each prediction\n",
    ")\n",
    "pipeline.start()\n",
    "pipeline.join()"
   ]
  }
 ],
 "metadata": {
  "kernelspec": {
   "display_name": "Python 3",
   "language": "python",
   "name": "python3"
  },
  "language_info": {
   "codemirror_mode": {
    "name": "ipython",
    "version": 3
   },
   "file_extension": ".py",
   "mimetype": "text/x-python",
   "name": "python",
   "nbconvert_exporter": "python",
   "pygments_lexer": "ipython3",
   "version": "3.10.14"
  }
 },
 "nbformat": 4,
 "nbformat_minor": 2
}
