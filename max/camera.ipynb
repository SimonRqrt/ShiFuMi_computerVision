{
 "cells": [
  {
   "cell_type": "code",
   "execution_count": 3,
   "metadata": {},
   "outputs": [
    {
     "ename": "ModuleNotFoundError",
     "evalue": "No module named 'inference'",
     "output_type": "error",
     "traceback": [
      "\u001b[0;31m---------------------------------------------------------------------------\u001b[0m",
      "\u001b[0;31mModuleNotFoundError\u001b[0m                       Traceback (most recent call last)",
      "Cell \u001b[0;32mIn[3], line 3\u001b[0m\n\u001b[1;32m      1\u001b[0m \u001b[38;5;66;03m# Import the InferencePipeline object\u001b[39;00m\n\u001b[1;32m      2\u001b[0m \u001b[38;5;28;01mfrom\u001b[39;00m \u001b[38;5;21;01mtyping\u001b[39;00m \u001b[38;5;28;01mimport\u001b[39;00m Any, List\n\u001b[0;32m----> 3\u001b[0m \u001b[38;5;28;01mfrom\u001b[39;00m \u001b[38;5;21;01minference\u001b[39;00m \u001b[38;5;28;01mimport\u001b[39;00m InferencePipeline\n\u001b[1;32m      4\u001b[0m \u001b[38;5;66;03m# Import the built in render_boxes sink for visualizing results\u001b[39;00m\n\u001b[1;32m      5\u001b[0m \u001b[38;5;28;01mfrom\u001b[39;00m \u001b[38;5;21;01minference\u001b[39;00m\u001b[38;5;21;01m.\u001b[39;00m\u001b[38;5;21;01mcore\u001b[39;00m\u001b[38;5;21;01m.\u001b[39;00m\u001b[38;5;21;01minterfaces\u001b[39;00m\u001b[38;5;21;01m.\u001b[39;00m\u001b[38;5;21;01mstream\u001b[39;00m\u001b[38;5;21;01m.\u001b[39;00m\u001b[38;5;21;01msinks\u001b[39;00m \u001b[38;5;28;01mimport\u001b[39;00m render_boxes\n",
      "\u001b[0;31mModuleNotFoundError\u001b[0m: No module named 'inference'"
     ]
    }
   ],
   "source": [
    "# Import the InferencePipeline object\n",
    "from typing import Any, List\n",
    "from inference import InferencePipeline\n",
    "# Import the built in render_boxes sink for visualizing results\n",
    "from inference.core.interfaces.stream.sinks import render_boxes\n",
    "from inference.core.interfaces.camera.entities import VideoFrame\n",
    "import torch\n",
    "\n",
    "class MyModel:\n",
    "\n",
    "  def __init__(self, weights_path: str):\n",
    "    self._model = torch.load(weights_path)\n",
    "\n",
    "  # after v0.9.18  \n",
    "  def infer(self, video_frames: List[VideoFrame]) -> List[Any]: \n",
    "    # result must be returned as list of elements representing model prediction for single frame\n",
    "    # with order unchanged.\n",
    "    return self._model([v.image for v in video_frames])\n",
    "  \n",
    "my_model = MyModel(\"../shifumi_trained.pt\")\n",
    "pipeline = InferencePipeline.init_with_custom_logic(\n",
    "    on_video_frame=my_model.infer,\n",
    "    video_reference=1, # Path to video, device id (int, usually 0 for built in webcams), or RTSP stream url\n",
    "    on_prediction=render_boxes, # Function to run after each prediction\n",
    ")\n",
    "pipeline.start()\n",
    "pipeline.join()"
   ]
  }
 ],
 "metadata": {
  "kernelspec": {
   "display_name": "Python 3",
   "language": "python",
   "name": "python3"
  },
  "language_info": {
   "codemirror_mode": {
    "name": "ipython",
    "version": 3
   },
   "file_extension": ".py",
   "mimetype": "text/x-python",
   "name": "python",
   "nbconvert_exporter": "python",
   "pygments_lexer": "ipython3",
   "version": "3.11.2"
  }
 },
 "nbformat": 4,
 "nbformat_minor": 2
}
