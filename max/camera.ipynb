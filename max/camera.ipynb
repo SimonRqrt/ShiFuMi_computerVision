{
 "cells": [
  {
   "cell_type": "code",
   "execution_count": 4,
   "metadata": {},
   "outputs": [],
   "source": [
    "# Import the InferencePipeline object\n",
    "from typing import Any, List\n",
    "from inference import InferencePipeline\n",
    "# Import the built in render_boxes sink for visualizing results\n",
    "from inference.core.interfaces.stream.sinks import render_boxes\n",
    "from inference.core.interfaces.camera.entities import VideoFrame\n",
    "import torch\n",
    "\n",
    "class MyModel:\n",
    "\n",
    "  def __init__(self, weights_path: str):\n",
    "    self._model = torch.load(weights_path)\n",
    "\n",
    "  # after v0.9.18  \n",
    "  def infer(self, video_frames: List[VideoFrame]) -> List[Any]: \n",
    "    # result must be returned as list of elements representing model prediction for single frame\n",
    "    # with order unchanged.\n",
    "    return self._model([v.image for v in video_frames])\n",
    "  \n",
    "my_model = MyModel(\"/teamspace/studios/this_studio/shifumi_trained.pt\")\n",
    "\n",
    "\n"
   ]
  }
 ],
 "metadata": {
  "kernelspec": {
   "display_name": "Python 3",
   "language": "python",
   "name": "python3"
  },
  "language_info": {
   "codemirror_mode": {
    "name": "ipython",
    "version": 3
   },
   "file_extension": ".py",
   "mimetype": "text/x-python",
   "name": "python",
   "nbconvert_exporter": "python",
   "pygments_lexer": "ipython3",
   "version": "3.11.2"
  }
 },
 "nbformat": 4,
 "nbformat_minor": 2
}
